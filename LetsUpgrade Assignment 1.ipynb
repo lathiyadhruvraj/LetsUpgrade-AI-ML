{
 "cells": [
  {
   "cell_type": "markdown",
   "metadata": {},
   "source": [
    "# Question 1\n",
    "Write a program to subtract two complex numbers in Python."
   ]
  },
  {
   "cell_type": "code",
   "execution_count": 6,
   "metadata": {},
   "outputs": [
    {
     "name": "stdout",
     "output_type": "stream",
     "text": [
      "real part of no 1 = 3\n",
      "imaginary part of no 1 = 4\n",
      "real part of no 2 = 2\n",
      "imaginary part of no 2 = 3\n",
      "\n",
      "\n",
      "Subtraction of two complex  (3+4j)  and  (2+3j)  is  (1+1j)\n"
     ]
    }
   ],
   "source": [
    "a = int(input(\"real part of no 1 = \"))\n",
    "b = int(input(\"imaginary part of no 1 = \"))\n",
    "p = complex(a,b)\n",
    "\n",
    "x = int(input(\"real part of no 2 = \"))\n",
    "y = int(input(\"imaginary part of no 2 = \"))\n",
    "q = complex(x,y)\n",
    "\n",
    "print(\"\\n\\nSubtraction of two complex no\",p,\" and \",q,\" is \",p-q)"
   ]
  },
  {
   "cell_type": "markdown",
   "metadata": {},
   "source": [
    "# Question 2\n",
    "Write a program to find the fourth root of a number."
   ]
  },
  {
   "cell_type": "code",
   "execution_count": 7,
   "metadata": {},
   "outputs": [
    {
     "name": "stdout",
     "output_type": "stream",
     "text": [
      "Give me a Number..  16\n",
      "Fourth root of  16.0  is  2.0\n"
     ]
    }
   ],
   "source": [
    "from math import sqrt as sq\n",
    "\n",
    "no = float(input(\"Give me a Number..  \"))\n",
    "\n",
    "print(\"Fourth root of \",no,\" is \",sq(sq(no)))\n"
   ]
  },
  {
   "cell_type": "markdown",
   "metadata": {},
   "source": [
    "# Question 3\n",
    "Write a program to swap two numbers in Python with the help of a temporary variable."
   ]
  },
  {
   "cell_type": "code",
   "execution_count": 8,
   "metadata": {},
   "outputs": [
    {
     "name": "stdout",
     "output_type": "stream",
     "text": [
      "Give me value of a 5\n",
      "Give me value of b 6\n",
      "\n",
      "Assigned value before swapping of a and b are 5.0 6.0\n",
      "\n",
      "Values after swapping of a and b are 6.0 5.0\n"
     ]
    }
   ],
   "source": [
    "a = float(input(\"Give me value of a \"))\n",
    "b = float(input(\"Give me value of b \"))\n",
    "\n",
    "print(\"\\nAssigned value before swapping of a and b are\",a,b)\n",
    "\n",
    "c = a\n",
    "a = b\n",
    "b = c\n",
    "\n",
    "print(\"\\nValues after swapping of a and b are\",a,b)"
   ]
  },
  {
   "cell_type": "markdown",
   "metadata": {},
   "source": [
    "# Question 4\n",
    "Write a program to swap two numbers in Python without using a temporary variable."
   ]
  },
  {
   "cell_type": "code",
   "execution_count": 9,
   "metadata": {},
   "outputs": [
    {
     "name": "stdout",
     "output_type": "stream",
     "text": [
      "Give me value of a 5\n",
      "Give me value of b 6\n",
      "Swapped Values are a =  6.0 b = 5.0\n"
     ]
    }
   ],
   "source": [
    "a = float(input(\"Give me value of a \"))\n",
    "b = float(input(\"Give me value of b \"))\n",
    "b, a = a, b\n",
    "\n",
    "print(\"Swapped Values are a = \",a,\"b =\",b)"
   ]
  },
  {
   "cell_type": "markdown",
   "metadata": {},
   "source": [
    "# Question 5\n",
    "Write a program to convert Fahrenheit to kelvin and celsius both."
   ]
  },
  {
   "cell_type": "code",
   "execution_count": 5,
   "metadata": {},
   "outputs": [
    {
     "name": "stdout",
     "output_type": "stream",
     "text": [
      "Fahrenheit = 212\n",
      "\n",
      " Celsius and Kelvin are  100.0 373.15\n"
     ]
    }
   ],
   "source": [
    "F = float(input(\"Fahrenheit = \"))\n",
    "C = (F - 32)*(5/9)\n",
    "K = C + 273.15\n",
    "\n",
    "print(\"\\n Celsius and Kelvin are \",C,K)"
   ]
  },
  {
   "cell_type": "markdown",
   "metadata": {},
   "source": [
    "# Question 6\n",
    "Write a program to demonstrate all the available data types in Python. Hint: Use type() function."
   ]
  },
  {
   "cell_type": "code",
   "execution_count": 18,
   "metadata": {},
   "outputs": [
    {
     "name": "stdout",
     "output_type": "stream",
     "text": [
      "<class 'int'>\n",
      "<class 'float'>\n",
      "<class 'str'>\n",
      "<class 'bool'>\n",
      "<class 'complex'>\n",
      "<class 'list'>\n",
      "<class 'tuple'>\n",
      "<class 'dict'>\n",
      "<class 'range'>\n",
      "<class 'set'>\n"
     ]
    }
   ],
   "source": [
    "a = 7\n",
    "b = 1.1\n",
    "\n",
    "d = \"this is string\"\n",
    "e = True\n",
    "f = 2+3j\n",
    "g = [1]\n",
    "h = (1,2,1)\n",
    "i = {a:b}\n",
    "j = range(0,6)\n",
    "l\n",
    "\n",
    "print(type(a))\n",
    "print(type(b))\n",
    "\n",
    "print(type(d))\n",
    "print(type(e))\n",
    "print(type(f))\n",
    "print(type(g))\n",
    "print(type(h))\n",
    "print(type(i))\n",
    "print(type(j))\n",
    "\n",
    "print(type(l))"
   ]
  },
  {
   "cell_type": "markdown",
   "metadata": {},
   "source": [
    "# Question 7:\n",
    "Create a Markdown cell in Jupyter and list the steps discussed in the session by Dr. Darshan\n",
    "Ingle sir to create a Github profile and upload the Githubs Assignment link."
   ]
  },
  {
   "cell_type": "markdown",
   "metadata": {},
   "source": [
    "1] Create you Github Account\n",
    "\n",
    "2] After Creating account, Click on New Repository\n",
    "\n",
    "3] Name it as LetsUpgrade-AI/ML\n",
    "\n",
    "4] Below that there is a button (create repository public)- By default is is public, Don't change it.\n",
    "\n",
    "5] Click on initialize Readme\n",
    "\n",
    "6] At the end, Click on Commit Changes\n",
    "\n",
    "7] Your public GitHub repository is created, Now Upload Assignment there, there you will see 3 dots on right hand side,\n",
    "\n",
    "8] Click on 3 dots -- click on Upload files and then drag drop your work there, then click on commit change. \n",
    "\n",
    "9] Submit that link to the Submission form."
   ]
  },
  {
   "cell_type": "code",
   "execution_count": null,
   "metadata": {},
   "outputs": [],
   "source": []
  }
 ],
 "metadata": {
  "kernelspec": {
   "display_name": "Python 3",
   "language": "python",
   "name": "python3"
  },
  "language_info": {
   "codemirror_mode": {
    "name": "ipython",
    "version": 3
   },
   "file_extension": ".py",
   "mimetype": "text/x-python",
   "name": "python",
   "nbconvert_exporter": "python",
   "pygments_lexer": "ipython3",
   "version": "3.7.7"
  }
 },
 "nbformat": 4,
 "nbformat_minor": 4
}
