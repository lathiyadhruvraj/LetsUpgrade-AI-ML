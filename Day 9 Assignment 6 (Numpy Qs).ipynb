{
 "cells": [
  {
   "cell_type": "markdown",
   "metadata": {},
   "source": [
    "# NumPy "
   ]
  },
  {
   "cell_type": "markdown",
   "metadata": {},
   "source": [
    "# Question 1:\n",
    "Create an element-wise comparison (greater, greater_equal, less and less_equal) of two given arrays\n"
   ]
  },
  {
   "cell_type": "code",
   "execution_count": 1,
   "metadata": {},
   "outputs": [],
   "source": [
    "import numpy as np\n"
   ]
  },
  {
   "cell_type": "code",
   "execution_count": 2,
   "metadata": {},
   "outputs": [
    {
     "name": "stdout",
     "output_type": "stream",
     "text": [
      "[4 7 1 6 8 2 0 3 9 5]\n",
      "[0.1 1.3 1.  3.  2.  5.  2.1 7.2 8.9 9. ]\n",
      "\n",
      "Comparison --> greater \n",
      "\n",
      "[ True  True False  True  True False False False  True False] \n",
      "\n",
      "Comparison --> greater_equal \n",
      "\n",
      "[ True  True  True  True  True False False False  True False] \n",
      "\n",
      "Comparison --> less \n",
      "\n",
      "[False False False False False  True  True  True False  True] \n",
      "\n",
      "Comparison --> less_equal \n",
      "\n",
      "[False False  True False False  True  True  True False  True] \n",
      "\n"
     ]
    }
   ],
   "source": [
    "a = np.random.choice(10, 10, replace=False)\n",
    "b = np.round([0.121, 1.26253, 1.0041, 3, 2, 5, 2.1341, 7.234, 8.8762, 9], decimals=1)\n",
    "\n",
    "print(a)\n",
    "print(b)\n",
    "print()\n",
    "print(\"Comparison --> greater\",'\\n')\n",
    "print(np.greater(a, b),'\\n')\n",
    "print(\"Comparison --> greater_equal\",'\\n')\n",
    "print(np.greater_equal(a, b),'\\n')\n",
    "print(\"Comparison --> less\",'\\n')\n",
    "print(np.less(a, b),'\\n')\n",
    "print(\"Comparison --> less_equal\",'\\n')\n",
    "print(np.less_equal(a, b),'\\n')\n",
    "\n"
   ]
  },
  {
   "cell_type": "markdown",
   "metadata": {},
   "source": [
    "# Question 2:\n",
    "Write a NumPy program to create an array of 10 zeros,10 ones, 10 fives\n"
   ]
  },
  {
   "cell_type": "code",
   "execution_count": 3,
   "metadata": {},
   "outputs": [
    {
     "name": "stdout",
     "output_type": "stream",
     "text": [
      "[0 0 0 0 0 0 0 0 0 0] \n",
      "\n",
      "[1 1 1 1 1 1 1 1 1 1] \n",
      "\n",
      "[5 5 5 5 5 5 5 5 5 5]\n"
     ]
    }
   ],
   "source": [
    "x = np.zeros(10, np.int64)\n",
    "print(x,'\\n')\n",
    "\n",
    "y = np.ones(10, np.int64)\n",
    "print(y,'\\n')\n",
    "\n",
    "z = np.ones(10, np.int32)*5\n",
    "print(z)"
   ]
  },
  {
   "cell_type": "markdown",
   "metadata": {},
   "source": [
    "# Question 3:\n",
    "Write a NumPy program to compute sum of all elements, sum of each column and sum of each row of a\n",
    "given array\n"
   ]
  },
  {
   "cell_type": "code",
   "execution_count": 4,
   "metadata": {},
   "outputs": [
    {
     "name": "stdout",
     "output_type": "stream",
     "text": [
      "[[ 7 14 13  9 10  8  4]\n",
      " [ 3 14  6 12 13  6  8]\n",
      " [ 3 17 15  8 12 16 13]\n",
      " [ 0 11  5  9  6  7 14]\n",
      " [17 15  6 17 16  0  2]\n",
      " [10  4 13  6 11  9  3]] \n",
      "\n",
      "Columnwise addition =>  [40 75 58 61 68 46 44] \n",
      "\n",
      "Rowwise addition =>  [65 62 84 52 73 56]\n"
     ]
    }
   ],
   "source": [
    "array = np.random.choice(18, 42, replace=True).reshape(6,7)\n",
    "print(array,'\\n')\n",
    "\n",
    "print(\"Columnwise addition => \",np.sum(array, axis=0),'\\n')\n",
    "print('Rowwise addition => ',np.sum(array, axis=1))"
   ]
  },
  {
   "cell_type": "markdown",
   "metadata": {},
   "source": [
    "# Question 4:\n",
    "Write a NumPy program to add, subtract, multiply, divide arguments element-wise.\n",
    "\n"
   ]
  },
  {
   "cell_type": "code",
   "execution_count": 5,
   "metadata": {},
   "outputs": [
    {
     "name": "stdout",
     "output_type": "stream",
     "text": [
      "arr1 => \n",
      " [[5 1 4 6 0]\n",
      " [8 1 5 2 2]\n",
      " [4 1 9 0 7]\n",
      " [6 5 7 4 4]] \n",
      "\n",
      "arr2 => \n",
      " [[2 2 2 2 2]\n",
      " [2 2 2 2 2]\n",
      " [2 2 2 2 2]\n",
      " [2 2 2 2 2]]\n",
      "\n",
      "Elementwise Addition \n",
      " [[ 7  3  6  8  2]\n",
      " [10  3  7  4  4]\n",
      " [ 6  3 11  2  9]\n",
      " [ 8  7  9  6  6]]\n",
      "\n",
      "Elementwise Multiply \n",
      " [[10  2  8 12  0]\n",
      " [16  2 10  4  4]\n",
      " [ 8  2 18  0 14]\n",
      " [12 10 14  8  8]]\n",
      "\n",
      "Elementwise Division \n",
      " [[2.5 0.5 2.  3.  0. ]\n",
      " [4.  0.5 2.5 1.  1. ]\n",
      " [2.  0.5 4.5 0.  3.5]\n",
      " [3.  2.5 3.5 2.  2. ]]\n"
     ]
    }
   ],
   "source": [
    "arr1 = np.random.choice(10, 20, replace=True).reshape(4,5)\n",
    "arr2 = (np.ones(20, np.int32)*2).reshape(4,5)\n",
    "\n",
    "print('arr1 => \\n',arr1,'\\n')\n",
    "print('arr2 => \\n' ,arr2)\n",
    "\n",
    "print(\"\\nElementwise Addition \\n\", arr1 + arr2)\n",
    "\n",
    "print(\"\\nElementwise Multiply \\n\", arr1 * arr2)\n",
    "\n",
    "print(\"\\nElementwise Division \\n\", arr1 / arr2)"
   ]
  },
  {
   "cell_type": "markdown",
   "metadata": {},
   "source": [
    "# Question 5:\n",
    "Write a NumPy program to compute the trigonometric sine, cosine and tangent array of angles given in\n",
    "degree."
   ]
  },
  {
   "cell_type": "code",
   "execution_count": 6,
   "metadata": {},
   "outputs": [
    {
     "name": "stdout",
     "output_type": "stream",
     "text": [
      "sine: array of angles given in degrees \n",
      "\n",
      "[0.         0.4997701  0.70682518 0.86575984 0.99999968]\n",
      "\n",
      " cosine: array of angles given in degrees\n",
      "\n",
      "[ 1.          0.85509788 -0.68398486  0.46238476 -0.06432943]\n",
      "\n",
      "tangent: array of random angles\n",
      "\n",
      "[ 0.00000000e+00  5.77350269e-01  8.39099631e-01  1.00000000e+00\n",
      "  1.73205081e+00  3.73205081e+00  1.63312394e+16 -1.22464680e-16\n",
      " -2.44929360e-16]\n"
     ]
    }
   ],
   "source": [
    "print(\"sine: array of angles given in degrees \\n\")\n",
    "print(np.sin(np.array((0, 30, 45, 60, 90)) * 3.14 / 180))\n",
    "\n",
    "print(\"\\n cosine: array of angles given in degrees\\n\")\n",
    "print(np.cos(np.array((0, 30, 45, 60, 90)) *  (22/7) * 180))\n",
    "\n",
    "print(\"\\ntangent: array of random angles\\n\" )\n",
    "print(np.tan(np.array((0., 30., 40., 45., 60., 75., 90., 180., 360.))* np.pi/180.))"
   ]
  },
  {
   "cell_type": "code",
   "execution_count": null,
   "metadata": {},
   "outputs": [],
   "source": []
  }
 ],
 "metadata": {
  "kernelspec": {
   "display_name": "Python 3",
   "language": "python",
   "name": "python3"
  },
  "language_info": {
   "codemirror_mode": {
    "name": "ipython",
    "version": 3
   },
   "file_extension": ".py",
   "mimetype": "text/x-python",
   "name": "python",
   "nbconvert_exporter": "python",
   "pygments_lexer": "ipython3",
   "version": "3.7.9"
  }
 },
 "nbformat": 4,
 "nbformat_minor": 4
}
