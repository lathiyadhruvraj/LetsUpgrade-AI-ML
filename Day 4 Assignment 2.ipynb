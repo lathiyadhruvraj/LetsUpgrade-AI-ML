{
 "cells": [
  {
   "cell_type": "markdown",
   "metadata": {},
   "source": [
    "# Question 1 :\n",
    "Research on whether addition, subtraction, multiplication, division, floor division, and modulo operations\n",
    "be performed on complex numbers. Based on your study, implement a Python program to demonstrate\n",
    "these operations."
   ]
  },
  {
   "cell_type": "code",
   "execution_count": 1,
   "metadata": {},
   "outputs": [
    {
     "name": "stdout",
     "output_type": "stream",
     "text": [
      "\n",
      "Addition of 2 complex nos a and b are (6+7j)\n",
      "\n",
      "Subtraction of 2 complex nos a and b are (2+1j)\n",
      "\n",
      "Multiplication of 2 complex nos a and b are (-4+20j)\n",
      "\n",
      "Division of 2 complex nos a and b are (1.5384615384615383-0.30769230769230776j)\n"
     ]
    }
   ],
   "source": [
    "a = 4+4j\n",
    "b = 2+3j\n",
    "\n",
    "print(\"\\nAddition of 2 complex nos a and b are\",a+b)\n",
    "\n",
    "print(\"\\nSubtraction of 2 complex nos a and b are\",a-b)\n",
    "\n",
    "print(\"\\nMultiplication of 2 complex nos a and b are\",a*b)\n",
    "\n",
    "print(\"\\nDivision of 2 complex nos a and b are\",a/b)\n"
   ]
  },
  {
   "cell_type": "markdown",
   "metadata": {},
   "source": [
    "======================================================================================================================\n",
    "<font color='blue'>\n",
    "\n",
    "print(\"\\nmodulo of 2 complex nos a and b are\",a//b)\n",
    "\n",
    "print(\"\\nmodulo of 2 complex nos a and b are\",a%b) </font>\n",
    "\n",
    "\n",
    "<font color='yellow'> THESE WILL GIVE FOLLOWING ERRORS SO FLOOR DIVISION AND MODULAS FOR COMPLEX NO. IS NOT SUPPORTED IN PYTHON 3.8 </font>\n",
    "\n",
    "\n",
    "\n",
    "TypeError                                 Traceback (most recent call last)\n",
    "<ipython-input-3-0f21d439a72a> in <module>\n",
    "     10 print(\"\\nDivision of 2 complex nos a and b are\",a/b)\n",
    "     11 \n",
    "---> 12 print(\"\\nFloor Division of 2 complex nos a and b are\",b//a)\n",
    "     13 \n",
    "     14 print(\"\\nmodulo of 2 complex nos a and b are\",a%b)\n",
    "\n",
    "TypeError: can't take floor of complex number.\n",
    "\n",
    "---------------------------------------------------------------------------\n",
    "TypeError                                 Traceback (most recent call last)\n",
    "<ipython-input-4-cd6f154b3baa> in <module>\n",
    "     10 print(\"\\nDivision of 2 complex nos a and b are\",a/b)\n",
    "     11 \n",
    "---> 12 print(\"\\nmodulo of 2 complex nos a and b are\",a%b)\n",
    "\n",
    "TypeError: can't mod complex numbers.\n",
    "\n"
   ]
  },
  {
   "cell_type": "markdown",
   "metadata": {},
   "source": [
    "# Question 2 :\n",
    "Research on range() functions and its parameters. Create a markdown cell and write in your own words\n",
    "(no copy-paste from google please) what you understand about it. Implement a small program of your\n",
    "choice on the same.\n"
   ]
  },
  {
   "cell_type": "code",
   "execution_count": 2,
   "metadata": {},
   "outputs": [
    {
     "name": "stdout",
     "output_type": "stream",
     "text": [
      "['__bool__', '__class__', '__contains__', '__delattr__', '__dir__', '__doc__', '__eq__', '__format__', '__ge__', '__getattribute__', '__getitem__', '__gt__', '__hash__', '__init__', '__init_subclass__', '__iter__', '__le__', '__len__', '__lt__', '__ne__', '__new__', '__reduce__', '__reduce_ex__', '__repr__', '__reversed__', '__setattr__', '__sizeof__', '__str__', '__subclasshook__', 'count', 'index', 'start', 'step', 'stop']\n",
      "34\n",
      "Help on class range in module builtins:\n",
      "\n",
      "class range(object)\n",
      " |  range(stop) -> range object\n",
      " |  range(start, stop[, step]) -> range object\n",
      " |  \n",
      " |  Return an object that produces a sequence of integers from start (inclusive)\n",
      " |  to stop (exclusive) by step.  range(i, j) produces i, i+1, i+2, ..., j-1.\n",
      " |  start defaults to 0, and stop is omitted!  range(4) produces 0, 1, 2, 3.\n",
      " |  These are exactly the valid indices for a list of 4 elements.\n",
      " |  When step is given, it specifies the increment (or decrement).\n",
      " |  \n",
      " |  Methods defined here:\n",
      " |  \n",
      " |  __bool__(self, /)\n",
      " |      self != 0\n",
      " |  \n",
      " |  __contains__(self, key, /)\n",
      " |      Return key in self.\n",
      " |  \n",
      " |  __eq__(self, value, /)\n",
      " |      Return self==value.\n",
      " |  \n",
      " |  __ge__(self, value, /)\n",
      " |      Return self>=value.\n",
      " |  \n",
      " |  __getattribute__(self, name, /)\n",
      " |      Return getattr(self, name).\n",
      " |  \n",
      " |  __getitem__(self, key, /)\n",
      " |      Return self[key].\n",
      " |  \n",
      " |  __gt__(self, value, /)\n",
      " |      Return self>value.\n",
      " |  \n",
      " |  __hash__(self, /)\n",
      " |      Return hash(self).\n",
      " |  \n",
      " |  __iter__(self, /)\n",
      " |      Implement iter(self).\n",
      " |  \n",
      " |  __le__(self, value, /)\n",
      " |      Return self<=value.\n",
      " |  \n",
      " |  __len__(self, /)\n",
      " |      Return len(self).\n",
      " |  \n",
      " |  __lt__(self, value, /)\n",
      " |      Return self<value.\n",
      " |  \n",
      " |  __ne__(self, value, /)\n",
      " |      Return self!=value.\n",
      " |  \n",
      " |  __reduce__(...)\n",
      " |      Helper for pickle.\n",
      " |  \n",
      " |  __repr__(self, /)\n",
      " |      Return repr(self).\n",
      " |  \n",
      " |  __reversed__(...)\n",
      " |      Return a reverse iterator.\n",
      " |  \n",
      " |  count(...)\n",
      " |      rangeobject.count(value) -> integer -- return number of occurrences of value\n",
      " |  \n",
      " |  index(...)\n",
      " |      rangeobject.index(value) -> integer -- return index of value.\n",
      " |      Raise ValueError if the value is not present.\n",
      " |  \n",
      " |  ----------------------------------------------------------------------\n",
      " |  Static methods defined here:\n",
      " |  \n",
      " |  __new__(*args, **kwargs) from builtins.type\n",
      " |      Create and return a new object.  See help(type) for accurate signature.\n",
      " |  \n",
      " |  ----------------------------------------------------------------------\n",
      " |  Data descriptors defined here:\n",
      " |  \n",
      " |  start\n",
      " |  \n",
      " |  step\n",
      " |  \n",
      " |  stop\n",
      "\n",
      "None\n"
     ]
    }
   ],
   "source": [
    "print(dir(range))\n",
    "print(len(dir(range)))\n",
    "print(help(range))"
   ]
  },
  {
   "cell_type": "markdown",
   "metadata": {},
   "source": [
    "As we can see help() and dir() helps a lot to know any function or method \n",
    "\n",
    "There are maximum 3 parameters that can be passed inside range() function.\n",
    "\n",
    "If 1 parameter is passed it will act as stop value.\n",
    "\n",
    "Eg range(6) then 6 will be the stop value and range function will give value from 0 to 5, range() will take 0, 1 as start value and step value respectively.\n",
    "### the important thing to notice is that the last,stop value will not taken into consideration. So 6 will not get counted.\n",
    "\n",
    "If 2 parameters will be entered then the first one is taken as start value and second as end value, step value bydefault as 1.\n",
    "### one another thing to notice is that giving start value > end value as input, will give nothing, not error neither output.\n",
    "\n",
    "If 3 parameters are passed then it will be taken last parameter as step value, and gives output according to the step value.\n",
    "eg step value 1, no change it will be same as 2 parameters passed in range()\n",
    "   step value 2, it will skip 1 no inbetween and print the second no\n",
    "   \n",
    "### step value -1 will give reverse output, -2 will skip one no inbetween and reverse output ONLY IF START VALUE> END VALUE"
   ]
  },
  {
   "cell_type": "code",
   "execution_count": 3,
   "metadata": {},
   "outputs": [
    {
     "name": "stdout",
     "output_type": "stream",
     "text": [
      "0 1 2 3 4 5 6 7 8 9 10 11 \n",
      "\n",
      "0 1 2 3 4 5 6 7 8 9 10 11 \n",
      "=====================================\n",
      "\n",
      "4 5 6 7 \n",
      "\n",
      "4 5 6 7 4 6 8 \n",
      "=====================================\n",
      "\n",
      "8 7 6 5 \n",
      "\n",
      "8 6 4 2 "
     ]
    }
   ],
   "source": [
    "for i in range(12):\n",
    "    print(i, end=\" \")\n",
    "\n",
    "print(\"\\n\")\n",
    "    \n",
    "for i in range(0,12):\n",
    "    print(i, end=\" \")\n",
    "\n",
    "print(\"\\n=====================================\\n\")\n",
    "\n",
    "for i in range(4,8):\n",
    "    print(i, end=\" \")\n",
    "\n",
    "print(\"\\n\")\n",
    "for i in range(4,8,1):\n",
    "    print(i, end=\" \")\n",
    "\n",
    "for i in range(4,10,2):\n",
    "    print(i, end=\" \")\n",
    "    \n",
    "print(\"\\n=====================================\\n\")\n",
    "\n",
    "for i in range(8,4,-1):\n",
    "    print(i, end=\" \")\n",
    "\n",
    "print(\"\\n\")\n",
    "for i in range(8,0,-2):\n",
    "    print(i, end=\" \")"
   ]
  },
  {
   "cell_type": "markdown",
   "metadata": {},
   "source": [
    "# Question 3:\n",
    "Consider two numbers. Perform their subtraction and if the result of subtraction is greater than 25, print\n",
    "their multiplication result else print their division result.\n"
   ]
  },
  {
   "cell_type": "code",
   "execution_count": 5,
   "metadata": {},
   "outputs": [
    {
     "name": "stdout",
     "output_type": "stream",
     "text": [
      "200\n",
      "70\n",
      "14000.0\n"
     ]
    }
   ],
   "source": [
    "a = float(input())\n",
    "b = float(input())\n",
    "\n",
    "if (a-b) >25:\n",
    "    print(a*b)\n",
    "else:\n",
    "    print(a/b)"
   ]
  },
  {
   "cell_type": "markdown",
   "metadata": {},
   "source": [
    "# Question 4:\n",
    "Consider a list of 10 elements of integer values. If the number in the list is divisible by 2, print the result as\n",
    "\"square of that number minus 2\".\n"
   ]
  },
  {
   "cell_type": "code",
   "execution_count": 6,
   "metadata": {},
   "outputs": [
    {
     "name": "stdout",
     "output_type": "stream",
     "text": [
      "3\n",
      "15\n",
      "35\n",
      "63\n",
      "99\n"
     ]
    }
   ],
   "source": [
    "i = list(range(1,11))\n",
    "\n",
    "for no in i:\n",
    "    if no%2 == 0:\n",
    "        print((no**2)-1)"
   ]
  },
  {
   "cell_type": "markdown",
   "metadata": {},
   "source": [
    "# Question 5:\n",
    "Consider a list of 10 elements. Print all the elements in the list which are greater than 7 when that number\n",
    "is divided 2."
   ]
  },
  {
   "cell_type": "code",
   "execution_count": 7,
   "metadata": {},
   "outputs": [
    {
     "name": "stdout",
     "output_type": "stream",
     "text": [
      "8\n",
      "10\n",
      "12\n",
      "14\n"
     ]
    }
   ],
   "source": [
    "i = list(range(5,16))\n",
    "\n",
    "for no in i:\n",
    "    if no>7 and no%2==0:\n",
    "        print(no)\n"
   ]
  },
  {
   "cell_type": "code",
   "execution_count": null,
   "metadata": {},
   "outputs": [],
   "source": []
  }
 ],
 "metadata": {
  "kernelspec": {
   "display_name": "Python 3",
   "language": "python",
   "name": "python3"
  },
  "language_info": {
   "codemirror_mode": {
    "name": "ipython",
    "version": 3
   },
   "file_extension": ".py",
   "mimetype": "text/x-python",
   "name": "python",
   "nbconvert_exporter": "python",
   "pygments_lexer": "ipython3",
   "version": "3.7.9"
  }
 },
 "nbformat": 4,
 "nbformat_minor": 4
}
