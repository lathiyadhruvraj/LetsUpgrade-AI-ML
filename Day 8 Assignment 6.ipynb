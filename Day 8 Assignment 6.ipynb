{
 "cells": [
  {
   "cell_type": "markdown",
   "metadata": {},
   "source": [
    "# Question 1:\n",
    "Recreate “NB 21 map, filter, lambda.ipynb” to try different variations or perform different calculations from\n",
    "the ones that are in the NB"
   ]
  },
  {
   "cell_type": "markdown",
   "metadata": {},
   "source": [
    "**--------------------------------------------------------------------------------------------------------------------------------------------------------------------------------------------**"
   ]
  },
  {
   "cell_type": "markdown",
   "metadata": {},
   "source": [
    "1. map(), filter(), reduce() are built-in functions\n",
    "2. These three functions enable the functional programming aspect in python\n",
    "3. In functional programming, the arguments passed are the only factors that decide upon the output.\n",
    "4. **These functions can take any other function as their parameter and can be supplied to other functions as    parameters as well**\n",
    "   \n",
    "**SO BASICALLY THESE FUNCTIONS TAKE THE INPUT ITERATE ITSELF (NO LOOP REQ.) THUS MAKING WORK OF THE DEVELOPER EASY**"
   ]
  },
  {
   "cell_type": "markdown",
   "metadata": {},
   "source": [
    "================================================================================================================"
   ]
  },
  {
   "cell_type": "markdown",
   "metadata": {},
   "source": [
    "# map()\n",
    "\n",
    "map() takes two arguments :\n",
    "    \n",
    "    1.function(can be inbuilt/) \n",
    "    2.iterables(tuple/list)\n",
    "\n",
    "SYNTAX:\n",
    " \n",
    "    map(function , iterables)\n",
    "    \n",
    "***"
   ]
  },
  {
   "cell_type": "code",
   "execution_count": 1,
   "metadata": {},
   "outputs": [
    {
     "name": "stdout",
     "output_type": "stream",
     "text": [
      "<map object at 0x0000017384BD1C88>\n",
      "<class 'map'>\n",
      "[1, 4, 9, 16, 25]\n"
     ]
    }
   ],
   "source": [
    "def sqr(x):\n",
    "    return x*x\n",
    "\n",
    "i = map(sqr, [1,2,3,4,5])\n",
    "print(i)\n",
    "print(type(i))\n",
    "print(list(i))"
   ]
  },
  {
   "cell_type": "code",
   "execution_count": 2,
   "metadata": {},
   "outputs": [
    {
     "name": "stdout",
     "output_type": "stream",
     "text": [
      "[6.0, 7.0, 8.0, 9.0]\n"
     ]
    }
   ],
   "source": [
    "def div(a,b):\n",
    "    return a/b\n",
    "\n",
    "print(list(map(div, [12,14,16,18], [2,2,2,2])))"
   ]
  },
  {
   "cell_type": "code",
   "execution_count": 3,
   "metadata": {},
   "outputs": [
    {
     "name": "stdout",
     "output_type": "stream",
     "text": [
      "(5, 5, 5, 5, 5)\n"
     ]
    }
   ],
   "source": [
    "def add(a,b):\n",
    "    return a+b\n",
    "\n",
    "print(tuple(map(add, [i for i in range(0,5)], [x for x in range(5,0,-1)])))\n"
   ]
  },
  {
   "cell_type": "markdown",
   "metadata": {},
   "source": [
    "**===========================================================================================================**\n",
    "# Lambda functions\n",
    "***\n",
    "1. Lambda expressions are nameless. (They do not have name)\n",
    "\n",
    "2. It is known as Anonymous or nameless functions.\n",
    "\n",
    "3. THEY ARE GENERALLY PROVIDED AS INPUT TO OTHER FUNCTIONS.\n",
    "\n",
    "4. They are single line functions,therefore we have to provide the expression along with the function itself.\n",
    "\n",
    "LAMBDA IS NOT A NAME IT IS A **KEYWORD**\n",
    "\n",
    "Use of Lambda Functions:\n",
    "     \n",
    "     1. One time Use (AKA throw away functions.)\n",
    "     2. Input/Output to other functions.\n",
    "     3. Reduce Code Size.\n",
    "     \n",
    "SYNTAX:\n",
    "\n",
    "lambda arguments: expression\n",
    "***"
   ]
  },
  {
   "cell_type": "code",
   "execution_count": 4,
   "metadata": {},
   "outputs": [
    {
     "data": {
      "text/plain": [
       "9"
      ]
     },
     "execution_count": 4,
     "metadata": {},
     "output_type": "execute_result"
    }
   ],
   "source": [
    "def sqr(a) : return a*a   # without lambda\n",
    "sqr(3)"
   ]
  },
  {
   "cell_type": "code",
   "execution_count": 5,
   "metadata": {},
   "outputs": [
    {
     "name": "stdout",
     "output_type": "stream",
     "text": [
      "<function addition.<locals>.<lambda> at 0x0000017383B2C948>\n",
      "9\n"
     ]
    }
   ],
   "source": [
    "def addition(x):\n",
    "    return lambda y: x+y\n",
    "\n",
    "t = addition(4)\n",
    "print(t)\n",
    "print(t(5))"
   ]
  },
  {
   "cell_type": "code",
   "execution_count": 6,
   "metadata": {},
   "outputs": [
    {
     "data": {
      "text/plain": [
       "9"
      ]
     },
     "execution_count": 6,
     "metadata": {},
     "output_type": "execute_result"
    }
   ],
   "source": [
    "x = lambda a: a*a\n",
    "x(3)"
   ]
  },
  {
   "cell_type": "code",
   "execution_count": 7,
   "metadata": {},
   "outputs": [
    {
     "data": {
      "text/plain": [
       "5"
      ]
     },
     "execution_count": 7,
     "metadata": {},
     "output_type": "execute_result"
    }
   ],
   "source": [
    "z = lambda x,y,z : (x*y)+z\n",
    "z(1,2,3)"
   ]
  },
  {
   "cell_type": "code",
   "execution_count": 8,
   "metadata": {},
   "outputs": [
    {
     "name": "stdout",
     "output_type": "stream",
     "text": [
      "[0, 4, 16, 36, 64]\n"
     ]
    }
   ],
   "source": [
    "# map + lambda\n",
    "\n",
    "print(list(map(lambda x: x*x, [i for i in range(0,10) if i%2 == 0])))"
   ]
  },
  {
   "cell_type": "markdown",
   "metadata": {},
   "source": [
    "**=============================================================================================================**\n",
    "# filter()\n",
    "\n",
    "It is used to filter the given iterables with the help of **another function passed as an argument** to test all the elements to be True or False  **OR** by applying **conditions**\n",
    "\n",
    "SYNTAX:\n",
    "    \n",
    "    filter(func, iterables)\n",
    "***"
   ]
  },
  {
   "cell_type": "code",
   "execution_count": 9,
   "metadata": {},
   "outputs": [
    {
     "name": "stdout",
     "output_type": "stream",
     "text": [
      "[9, 16, 25, 36]\n"
     ]
    }
   ],
   "source": [
    "def sqroot(a):\n",
    "    if a >= 6:\n",
    "        return a**(0.5)\n",
    "\n",
    "x = filter(sqroot, [1,4,9,16,25,36])\n",
    "print(list(x))"
   ]
  },
  {
   "cell_type": "code",
   "execution_count": 10,
   "metadata": {},
   "outputs": [
    {
     "name": "stdout",
     "output_type": "stream",
     "text": [
      "[3, 4, 5]\n"
     ]
    }
   ],
   "source": [
    "# filter + lambda\n",
    "\n",
    "print(list(filter(lambda x : x>=3 , [1,2,3,4,5])))"
   ]
  },
  {
   "cell_type": "markdown",
   "metadata": {},
   "source": [
    "**=============================================================================================================**\n",
    "# Reduce()\n",
    "\n",
    "It applies some other function to a list that are passed as a parameter to it and finally reurn a single value.\n",
    "\n",
    "SYNTAX:\n",
    "\n",
    "reduce(function, iterables)\n",
    "\n",
    "**NOTE: we need to import functools lib. to use reduce**\n",
    "   \n",
    "   <br>**It will return single value**\n",
    "***"
   ]
  },
  {
   "cell_type": "code",
   "execution_count": 11,
   "metadata": {},
   "outputs": [
    {
     "name": "stdout",
     "output_type": "stream",
     "text": [
      "1225\n"
     ]
    }
   ],
   "source": [
    "from functools import reduce\n",
    "\n",
    "def add(a,b):\n",
    "    return a+b\n",
    "\n",
    "print(reduce(add, [i for i in range(0,50)]))"
   ]
  },
  {
   "cell_type": "code",
   "execution_count": 12,
   "metadata": {},
   "outputs": [
    {
     "name": "stdout",
     "output_type": "stream",
     "text": [
      "121645100408832000\n"
     ]
    }
   ],
   "source": [
    "def factorial(a,b):\n",
    "    return a*b\n",
    "\n",
    "print(reduce(factorial, [x for x in range(1,20)]))"
   ]
  },
  {
   "cell_type": "code",
   "execution_count": 13,
   "metadata": {},
   "outputs": [
    {
     "data": {
      "text/plain": [
       "-53"
      ]
     },
     "execution_count": 13,
     "metadata": {},
     "output_type": "execute_result"
    }
   ],
   "source": [
    "# reduce + lambda\n",
    "\n",
    "reduce(lambda x,y : x-y ,[1,2,3,4,5,6,7,8,9,10]) \n",
    "# 2x+4y will give error"
   ]
  },
  {
   "cell_type": "markdown",
   "metadata": {},
   "source": [
    "==========================================================================================================="
   ]
  },
  {
   "cell_type": "code",
   "execution_count": 14,
   "metadata": {},
   "outputs": [
    {
     "name": "stdout",
     "output_type": "stream",
     "text": [
      "<map object at 0x000001738357D188>\n",
      "(25, 36, 49, 64, 81)\n"
     ]
    }
   ],
   "source": [
    "# MAP + FILTER + LAMBDA\n",
    "\n",
    "x = map(lambda x : x*x  , filter(lambda x: x>=5 , [x for x in range(3,10)] ))\n",
    "\n",
    "print(x)\n",
    "print(tuple(x))"
   ]
  },
  {
   "cell_type": "code",
   "execution_count": 15,
   "metadata": {},
   "outputs": [
    {
     "name": "stdout",
     "output_type": "stream",
     "text": [
      "[64, 625, 7776, 117649]\n"
     ]
    }
   ],
   "source": [
    "# FILTER + MAP + LAMBDA\n",
    "\n",
    "y = filter(lambda x: x>50 ,map(lambda x,y : x**y,[a for a in range(2,8)],[1,2,3,4,5,6]))\n",
    "\n",
    "print(list(y))"
   ]
  },
  {
   "cell_type": "code",
   "execution_count": 16,
   "metadata": {},
   "outputs": [
    {
     "name": "stdout",
     "output_type": "stream",
     "text": [
      "256\n"
     ]
    }
   ],
   "source": [
    "# REDUCE + MAP + FILTER\n",
    "\n",
    "print(reduce(lambda a,b : a+b, map(lambda z : z**z, filter(lambda x: x>=4, (1,2,3,4)))))"
   ]
  },
  {
   "cell_type": "markdown",
   "metadata": {},
   "source": [
    "**==========================================================================================================**"
   ]
  },
  {
   "cell_type": "markdown",
   "metadata": {},
   "source": [
    "# Question 2:\n",
    "Recreate your own Python NB for “Classes and Objects” from the pdf provided namely\n",
    "“Classes&Objects.pdf”\n",
    "\n",
    "**----------------------------------------------------------------------------------------------------------------------------------------------------------------------------------------**"
   ]
  },
  {
   "cell_type": "markdown",
   "metadata": {},
   "source": [
    "#### Python has been an object-oriented language since it existed. Because of this, creating and using clasees and objects are downright easy"
   ]
  },
  {
   "cell_type": "markdown",
   "metadata": {},
   "source": [
    "# Class\n",
    "\n",
    "A user - defined prototype for an object that defines a set if attributes that characterize any object of the class. The attributes are data members and methods, accessed via dot notation.\n",
    "\n",
    "# Data member\n",
    "\n",
    "A class variable or instance variable that holds data associated with a class and its objects"
   ]
  },
  {
   "cell_type": "code",
   "execution_count": 17,
   "metadata": {},
   "outputs": [
    {
     "name": "stdout",
     "output_type": "stream",
     "text": [
      "8\n",
      "I am method of the Class\n",
      "None\n"
     ]
    },
    {
     "ename": "AttributeError",
     "evalue": "'Class' object has no attribute '__private'",
     "output_type": "error",
     "traceback": [
      "\u001b[1;31m---------------------------------------------------------------------------\u001b[0m",
      "\u001b[1;31mAttributeError\u001b[0m                            Traceback (most recent call last)",
      "\u001b[1;32m<ipython-input-17-dc6431997338>\u001b[0m in \u001b[0;36m<module>\u001b[1;34m\u001b[0m\n\u001b[0;32m     11\u001b[0m \u001b[0mprint\u001b[0m\u001b[1;33m(\u001b[0m\u001b[0msample\u001b[0m\u001b[1;33m.\u001b[0m\u001b[0mmethod\u001b[0m\u001b[1;33m(\u001b[0m\u001b[1;33m)\u001b[0m\u001b[1;33m)\u001b[0m\u001b[1;33m\u001b[0m\u001b[1;33m\u001b[0m\u001b[0m\n\u001b[0;32m     12\u001b[0m \u001b[1;33m\u001b[0m\u001b[0m\n\u001b[1;32m---> 13\u001b[1;33m \u001b[0mprint\u001b[0m\u001b[1;33m(\u001b[0m\u001b[0msample\u001b[0m\u001b[1;33m.\u001b[0m\u001b[0m__private\u001b[0m\u001b[1;33m)\u001b[0m \u001b[1;31m# private attribute cannot be accessed outside\u001b[0m\u001b[1;33m\u001b[0m\u001b[1;33m\u001b[0m\u001b[0m\n\u001b[0m\u001b[0;32m     14\u001b[0m                         \u001b[1;31m# a class hence it will give error\u001b[0m\u001b[1;33m\u001b[0m\u001b[1;33m\u001b[0m\u001b[1;33m\u001b[0m\u001b[0m\n",
      "\u001b[1;31mAttributeError\u001b[0m: 'Class' object has no attribute '__private'"
     ]
    }
   ],
   "source": [
    "class Class:                     # class\n",
    "    attribute = 8                # class variable \n",
    "    __private = 10\n",
    "                     # attribute and __private both are Data member\n",
    "    def method(self):\n",
    "        print('I am method of the Class')\n",
    "        \n",
    "sample = Class()\n",
    "print(sample.attribute)\n",
    "\n",
    "print(sample.method())\n",
    "\n",
    "print(sample.__private) # private attribute cannot be accessed outside \n",
    "                        # a class hence it will give error"
   ]
  },
  {
   "cell_type": "markdown",
   "metadata": {},
   "source": [
    "# Class variable \n",
    "\n",
    "A variable that is shared by all instances of a class. Class variables are within a class but outside any of the class's methods. Class variables are not used as frequently as instance variable are.\n",
    "\n",
    "# Instance variable\n",
    "\n",
    "A variable that is defined inside a method and belongs only to the current instance of a class"
   ]
  },
  {
   "cell_type": "markdown",
   "metadata": {},
   "source": [
    "# Instance\n",
    "\n",
    "An individual object of a certain class. An object obj that belongs to a class object, for example, is an instance of the class Circle"
   ]
  },
  {
   "cell_type": "markdown",
   "metadata": {},
   "source": [
    "# Method\n",
    "\n",
    "A special kind of function that is defined in a class definition"
   ]
  },
  {
   "cell_type": "code",
   "execution_count": 18,
   "metadata": {},
   "outputs": [
    {
     "name": "stdout",
     "output_type": "stream",
     "text": [
      "10\n",
      "4\n",
      "4\n",
      "15\n"
     ]
    }
   ],
   "source": [
    "class Animal:\n",
    "    legs = 4        #class variable\n",
    "    hairs = 10\n",
    "    \n",
    "    def dog(self):    # method\n",
    "        print(self.legs)\n",
    "        self.hairs = 15   #instance variable\n",
    "        print(self.hairs)\n",
    "   \n",
    "    print(hairs)\n",
    "\n",
    "    \n",
    "pet = Animal()    # instantiation of Animal class \n",
    "                  # pet is the instance of Animal class\n",
    "\n",
    "print(pet.legs)\n",
    "\n",
    "pet.dog()\n",
    "\n"
   ]
  },
  {
   "cell_type": "markdown",
   "metadata": {},
   "source": [
    "# Inheritance\n",
    "\n",
    "The transfer of the characteristics of a class to other classes (parent class to child class) that are derived from it"
   ]
  },
  {
   "cell_type": "code",
   "execution_count": 19,
   "metadata": {},
   "outputs": [
    {
     "name": "stdout",
     "output_type": "stream",
     "text": [
      "Ï am a pet animal\n",
      "\n",
      "Ï am a pet animal\n",
      "I am a dog\n",
      "\n",
      "Ï am a pet animal\n",
      "I am a cat\n"
     ]
    }
   ],
   "source": [
    "class Animal:\n",
    "    def __init__(self):\n",
    "        print(\"Ï am a pet animal\")\n",
    "\n",
    "class dog(Animal):\n",
    "    def __init__(self):\n",
    "        Animal.__init__(self)\n",
    "        print('I am a dog')\n",
    "\n",
    "class cat(Animal):\n",
    "    def __init__(self):\n",
    "        Animal.__init__(self)\n",
    "        print('I am a cat')\n",
    "\n",
    "ani = Animal()\n",
    "print()\n",
    "sheru = dog()\n",
    "print()\n",
    "tom = cat()\n"
   ]
  },
  {
   "cell_type": "code",
   "execution_count": null,
   "metadata": {},
   "outputs": [],
   "source": []
  }
 ],
 "metadata": {
  "kernelspec": {
   "display_name": "Python 3",
   "language": "python",
   "name": "python3"
  },
  "language_info": {
   "codemirror_mode": {
    "name": "ipython",
    "version": 3
   },
   "file_extension": ".py",
   "mimetype": "text/x-python",
   "name": "python",
   "nbconvert_exporter": "python",
   "pygments_lexer": "ipython3",
   "version": "3.7.9"
  }
 },
 "nbformat": 4,
 "nbformat_minor": 4
}
