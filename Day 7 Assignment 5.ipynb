{
 "cells": [
  {
   "cell_type": "markdown",
   "metadata": {},
   "source": [
    "# Question 1:\n",
    "Write a program to copy the contents of one file to another using a for loop. (Don’t use built-in copy\n",
    "function)"
   ]
  },
  {
   "cell_type": "code",
   "execution_count": 1,
   "metadata": {},
   "outputs": [],
   "source": [
    "file = open('original.txt','w')\n",
    "file.write('My name is Dhruvraj Lathiya \\n')\n",
    "file.write('I love doing Assignments \\n')\n",
    "file.write('This is the last line for this example')\n",
    "file.close()"
   ]
  },
  {
   "cell_type": "code",
   "execution_count": 2,
   "metadata": {},
   "outputs": [
    {
     "name": "stdout",
     "output_type": "stream",
     "text": [
      "My name is Dhruvraj Lathiya \n",
      "I love doing Assignments \n",
      "This is the last line for this example\n"
     ]
    }
   ],
   "source": [
    "file = open('original.txt','r')\n",
    "print(file.read())\n",
    "file.close()"
   ]
  },
  {
   "cell_type": "code",
   "execution_count": 3,
   "metadata": {},
   "outputs": [
    {
     "name": "stdout",
     "output_type": "stream",
     "text": [
      "My name is Dhruvraj Lathiya \n",
      "I love doing Assignments \n",
      "This is the last line for this example\n"
     ]
    }
   ],
   "source": [
    "file = open('original.txt','r')\n",
    "\n",
    "content = file.readlines()\n",
    "\n",
    "file.close()\n",
    "\n",
    "clonefile = open('clone.txt','w')\n",
    "\n",
    "for line in content:\n",
    "    clonefile.write(line)\n",
    "    \n",
    "clonefile.close()\n",
    "\n",
    "clonefile = open('clone.txt','r')\n",
    "print(clonefile.read())"
   ]
  },
  {
   "cell_type": "markdown",
   "metadata": {},
   "source": [
    "============================================================================================================="
   ]
  },
  {
   "cell_type": "markdown",
   "metadata": {},
   "source": [
    "# Question 2:\n",
    "Write a Python program to find maximum and minimum values in the dictionary. Do not use built-in min\n",
    "and max functions."
   ]
  },
  {
   "cell_type": "code",
   "execution_count": 4,
   "metadata": {},
   "outputs": [
    {
     "name": "stdout",
     "output_type": "stream",
     "text": [
      "max : 978\n",
      "min : 2\n"
     ]
    }
   ],
   "source": [
    "diction = { 1 : 11 , 2: 32, 3: 2, 4: 17, 5: 49, 6:69, 7:56, 8:44, 9:978, 10:20 }\n",
    "\n",
    "keylist = diction.keys()\n",
    "    \n",
    "max = 0                \n",
    "min = 99999999999     #setting infinite value\n",
    "\n",
    "for key in keylist:\n",
    "    if min > diction[key]:\n",
    "        min = diction[key]\n",
    "    \n",
    "    if max < diction[key]:\n",
    "        max = diction[key]\n",
    "\n",
    "print('max :',max)\n",
    "print('min :',min)\n",
    "\n"
   ]
  },
  {
   "cell_type": "code",
   "execution_count": null,
   "metadata": {},
   "outputs": [],
   "source": []
  }
 ],
 "metadata": {
  "kernelspec": {
   "display_name": "Python 3",
   "language": "python",
   "name": "python3"
  },
  "language_info": {
   "codemirror_mode": {
    "name": "ipython",
    "version": 3
   },
   "file_extension": ".py",
   "mimetype": "text/x-python",
   "name": "python",
   "nbconvert_exporter": "python",
   "pygments_lexer": "ipython3",
   "version": "3.7.9"
  }
 },
 "nbformat": 4,
 "nbformat_minor": 4
}
