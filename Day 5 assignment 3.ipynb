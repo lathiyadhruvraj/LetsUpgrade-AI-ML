{
 "cells": [
  {
   "cell_type": "markdown",
   "metadata": {},
   "source": [
    "# Question 1 :\n",
    "Write a Python program to find the first 20 non-even prime natural numbers.\n"
   ]
  },
  {
   "cell_type": "code",
   "execution_count": 19,
   "metadata": {},
   "outputs": [
    {
     "name": "stdout",
     "output_type": "stream",
     "text": [
      "[3, 5, 7, 9, 11, 13, 15, 17, 19]\n"
     ]
    }
   ],
   "source": [
    "prime = [2]\n",
    "noneven = []\n",
    "for i in range(3,21,2):\n",
    "    for p in prime:\n",
    "        if i%p == 0:\n",
    "            break\n",
    "    else:\n",
    "        noneven.append(i)\n",
    "print(noneven)"
   ]
  },
  {
   "cell_type": "markdown",
   "metadata": {},
   "source": [
    "# Question 2 :\n",
    "Write a Python program to implement 15 functions of string.\n"
   ]
  },
  {
   "cell_type": "code",
   "execution_count": 37,
   "metadata": {},
   "outputs": [
    {
     "name": "stdout",
     "output_type": "stream",
     "text": [
      "  my name is dhruvraj  \n",
      "False\n",
      "  MY NAME IS DHRUVRAJ  \n",
      "  my name is dhruvraj  \n",
      "2\n",
      "13\n",
      "2\n",
      "False\n",
      "True\n",
      "False\n",
      "  My Name Is Dhruvraj  \n",
      "my name is Dhruvraj  \n",
      "  my name is Dhruvraj\n",
      "['  my name ', ' Dhruvraj  ']\n",
      "True\n",
      "  my name is dhruvraj  \n",
      "               my name is Dhruvraj                \n"
     ]
    }
   ],
   "source": [
    "str = \"  my name is Dhruvraj  \"\n",
    "\n",
    "print(str.capitalize())\n",
    "print(str.endswith('j'))\n",
    "print(str.upper())\n",
    "print(str.lower())\n",
    "print(str.count('m'))\n",
    "print(str.find('D'))\n",
    "print(str.index('m'))\n",
    "print(str.islower())\n",
    "print(str.isprintable())\n",
    "print(str.istitle())\n",
    "print(str.title())\n",
    "print(str.lstrip())\n",
    "print(str.rstrip())\n",
    "print(str.split('is'))\n",
    "print(str.startswith(\" \"))\n",
    "print(str.casefold())\n",
    "print(str.center(50))\n"
   ]
  },
  {
   "cell_type": "markdown",
   "metadata": {},
   "source": [
    "# Question 3:\n",
    "Write a Python program to check if the given string is a Palindrome or Anagram or None of them. Display\n",
    "the message accordingly to the user.\n"
   ]
  },
  {
   "cell_type": "code",
   "execution_count": 16,
   "metadata": {},
   "outputs": [
    {
     "name": "stdout",
     "output_type": "stream",
     "text": [
      "Enter a string 1\n",
      "dhruv\n",
      "Enter another string 2\n",
      "vurhd\n",
      "string 1 is palindrome with string 2\n"
     ]
    }
   ],
   "source": [
    "st1 = input(\"Enter a string 1\\n\")\n",
    "st2 = input(\"Enter another string 2\\n\")\n",
    "\n",
    "if st1 == st1[::-1]:\n",
    "    print(\"string 1 is palindrome\")\n",
    "elif st1 == st2[::-1]:\n",
    "    print(\"string 1 is palindrome with string 2\")\n",
    "elif sorted(st1) == sorted(st2):\n",
    "    print(\"Anagram\")\n",
    "else:\n",
    "    print(\"None\")\n"
   ]
  },
  {
   "cell_type": "markdown",
   "metadata": {},
   "source": [
    "# Question 4:\n",
    "Write a Python's user-defined function that removes all the additional characters from the string and\n",
    "convert it finally to lower case using built-in lower(). eg: If the string is \"Dr. Darshan Ingle @AIML Trainer\",\n",
    "then the output be \"drdarshaningleaimltrainer\"."
   ]
  },
  {
   "cell_type": "code",
   "execution_count": 20,
   "metadata": {},
   "outputs": [
    {
     "name": "stdout",
     "output_type": "stream",
     "text": [
      "Enter a stringDr. Darshan Ingle @AIML Trainer\n"
     ]
    },
    {
     "data": {
      "text/plain": [
       "'drdarshaningleaimltrainer'"
      ]
     },
     "execution_count": 20,
     "metadata": {},
     "output_type": "execute_result"
    }
   ],
   "source": [
    "st = input(\"Enter a string\")\n",
    "\n",
    "def rmvchar(string):\n",
    "    \n",
    "    alphanumeric = ''\n",
    "    \n",
    "    for ch in string:\n",
    "        if ch.isalnum():\n",
    "            alphanumeric += ch\n",
    "    return alphanumeric\n",
    "\n",
    "rmvchar(st.lower())"
   ]
  },
  {
   "cell_type": "code",
   "execution_count": null,
   "metadata": {},
   "outputs": [],
   "source": []
  }
 ],
 "metadata": {
  "kernelspec": {
   "display_name": "Python 3",
   "language": "python",
   "name": "python3"
  },
  "language_info": {
   "codemirror_mode": {
    "name": "ipython",
    "version": 3
   },
   "file_extension": ".py",
   "mimetype": "text/x-python",
   "name": "python",
   "nbconvert_exporter": "python",
   "pygments_lexer": "ipython3",
   "version": "3.7.9"
  }
 },
 "nbformat": 4,
 "nbformat_minor": 4
}
